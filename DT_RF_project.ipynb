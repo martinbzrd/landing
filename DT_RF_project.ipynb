{
  "nbformat": 4,
  "nbformat_minor": 0,
  "metadata": {
    "colab": {
      "provenance": [],
      "include_colab_link": true
    },
    "kernelspec": {
      "name": "python3",
      "display_name": "Python 3"
    },
    "language_info": {
      "name": "python"
    }
  },
  "cells": [
    {
      "cell_type": "markdown",
      "metadata": {
        "id": "view-in-github",
        "colab_type": "text"
      },
      "source": [
        "<a href=\"https://colab.research.google.com/github/martinbzrd/landing/blob/main/DT_RF_project.ipynb\" target=\"_parent\"><img src=\"https://colab.research.google.com/assets/colab-badge.svg\" alt=\"Open In Colab\"/></a>"
      ]
    },
    {
      "cell_type": "code",
      "execution_count": null,
      "metadata": {
        "id": "CGkgl-DpECOE"
      },
      "outputs": [],
      "source": [
        "import pandas as pd\n",
        "import numpy as np\n",
        "import matplotlib.pyplot as plt"
      ]
    },
    {
      "cell_type": "code",
      "source": [
        "from google.colab import files"
      ],
      "metadata": {
        "id": "kY9IFN6YEGsG"
      },
      "execution_count": null,
      "outputs": []
    },
    {
      "cell_type": "code",
      "source": [
        "files.upload()"
      ],
      "metadata": {
        "colab": {
          "base_uri": "https://localhost:8080/",
          "height": 129
        },
        "id": "OgspI7FZEII0",
        "outputId": "890acc20-eea4-4758-e896-05f423c42ca0"
      },
      "execution_count": null,
      "outputs": [
        {
          "output_type": "display_data",
          "data": {
            "text/plain": [
              "<IPython.core.display.HTML object>"
            ],
            "text/html": [
              "\n",
              "     <input type=\"file\" id=\"files-99f05c83-2955-436a-a886-65d8ca5c8840\" name=\"files[]\" multiple disabled\n",
              "        style=\"border:none\" />\n",
              "     <output id=\"result-99f05c83-2955-436a-a886-65d8ca5c8840\">\n",
              "      Upload widget is only available when the cell has been executed in the\n",
              "      current browser session. Please rerun this cell to enable.\n",
              "      </output>\n",
              "      <script>// Copyright 2017 Google LLC\n",
              "//\n",
              "// Licensed under the Apache License, Version 2.0 (the \"License\");\n",
              "// you may not use this file except in compliance with the License.\n",
              "// You may obtain a copy of the License at\n",
              "//\n",
              "//      http://www.apache.org/licenses/LICENSE-2.0\n",
              "//\n",
              "// Unless required by applicable law or agreed to in writing, software\n",
              "// distributed under the License is distributed on an \"AS IS\" BASIS,\n",
              "// WITHOUT WARRANTIES OR CONDITIONS OF ANY KIND, either express or implied.\n",
              "// See the License for the specific language governing permissions and\n",
              "// limitations under the License.\n",
              "\n",
              "/**\n",
              " * @fileoverview Helpers for google.colab Python module.\n",
              " */\n",
              "(function(scope) {\n",
              "function span(text, styleAttributes = {}) {\n",
              "  const element = document.createElement('span');\n",
              "  element.textContent = text;\n",
              "  for (const key of Object.keys(styleAttributes)) {\n",
              "    element.style[key] = styleAttributes[key];\n",
              "  }\n",
              "  return element;\n",
              "}\n",
              "\n",
              "// Max number of bytes which will be uploaded at a time.\n",
              "const MAX_PAYLOAD_SIZE = 100 * 1024;\n",
              "\n",
              "function _uploadFiles(inputId, outputId) {\n",
              "  const steps = uploadFilesStep(inputId, outputId);\n",
              "  const outputElement = document.getElementById(outputId);\n",
              "  // Cache steps on the outputElement to make it available for the next call\n",
              "  // to uploadFilesContinue from Python.\n",
              "  outputElement.steps = steps;\n",
              "\n",
              "  return _uploadFilesContinue(outputId);\n",
              "}\n",
              "\n",
              "// This is roughly an async generator (not supported in the browser yet),\n",
              "// where there are multiple asynchronous steps and the Python side is going\n",
              "// to poll for completion of each step.\n",
              "// This uses a Promise to block the python side on completion of each step,\n",
              "// then passes the result of the previous step as the input to the next step.\n",
              "function _uploadFilesContinue(outputId) {\n",
              "  const outputElement = document.getElementById(outputId);\n",
              "  const steps = outputElement.steps;\n",
              "\n",
              "  const next = steps.next(outputElement.lastPromiseValue);\n",
              "  return Promise.resolve(next.value.promise).then((value) => {\n",
              "    // Cache the last promise value to make it available to the next\n",
              "    // step of the generator.\n",
              "    outputElement.lastPromiseValue = value;\n",
              "    return next.value.response;\n",
              "  });\n",
              "}\n",
              "\n",
              "/**\n",
              " * Generator function which is called between each async step of the upload\n",
              " * process.\n",
              " * @param {string} inputId Element ID of the input file picker element.\n",
              " * @param {string} outputId Element ID of the output display.\n",
              " * @return {!Iterable<!Object>} Iterable of next steps.\n",
              " */\n",
              "function* uploadFilesStep(inputId, outputId) {\n",
              "  const inputElement = document.getElementById(inputId);\n",
              "  inputElement.disabled = false;\n",
              "\n",
              "  const outputElement = document.getElementById(outputId);\n",
              "  outputElement.innerHTML = '';\n",
              "\n",
              "  const pickedPromise = new Promise((resolve) => {\n",
              "    inputElement.addEventListener('change', (e) => {\n",
              "      resolve(e.target.files);\n",
              "    });\n",
              "  });\n",
              "\n",
              "  const cancel = document.createElement('button');\n",
              "  inputElement.parentElement.appendChild(cancel);\n",
              "  cancel.textContent = 'Cancel upload';\n",
              "  const cancelPromise = new Promise((resolve) => {\n",
              "    cancel.onclick = () => {\n",
              "      resolve(null);\n",
              "    };\n",
              "  });\n",
              "\n",
              "  // Wait for the user to pick the files.\n",
              "  const files = yield {\n",
              "    promise: Promise.race([pickedPromise, cancelPromise]),\n",
              "    response: {\n",
              "      action: 'starting',\n",
              "    }\n",
              "  };\n",
              "\n",
              "  cancel.remove();\n",
              "\n",
              "  // Disable the input element since further picks are not allowed.\n",
              "  inputElement.disabled = true;\n",
              "\n",
              "  if (!files) {\n",
              "    return {\n",
              "      response: {\n",
              "        action: 'complete',\n",
              "      }\n",
              "    };\n",
              "  }\n",
              "\n",
              "  for (const file of files) {\n",
              "    const li = document.createElement('li');\n",
              "    li.append(span(file.name, {fontWeight: 'bold'}));\n",
              "    li.append(span(\n",
              "        `(${file.type || 'n/a'}) - ${file.size} bytes, ` +\n",
              "        `last modified: ${\n",
              "            file.lastModifiedDate ? file.lastModifiedDate.toLocaleDateString() :\n",
              "                                    'n/a'} - `));\n",
              "    const percent = span('0% done');\n",
              "    li.appendChild(percent);\n",
              "\n",
              "    outputElement.appendChild(li);\n",
              "\n",
              "    const fileDataPromise = new Promise((resolve) => {\n",
              "      const reader = new FileReader();\n",
              "      reader.onload = (e) => {\n",
              "        resolve(e.target.result);\n",
              "      };\n",
              "      reader.readAsArrayBuffer(file);\n",
              "    });\n",
              "    // Wait for the data to be ready.\n",
              "    let fileData = yield {\n",
              "      promise: fileDataPromise,\n",
              "      response: {\n",
              "        action: 'continue',\n",
              "      }\n",
              "    };\n",
              "\n",
              "    // Use a chunked sending to avoid message size limits. See b/62115660.\n",
              "    let position = 0;\n",
              "    do {\n",
              "      const length = Math.min(fileData.byteLength - position, MAX_PAYLOAD_SIZE);\n",
              "      const chunk = new Uint8Array(fileData, position, length);\n",
              "      position += length;\n",
              "\n",
              "      const base64 = btoa(String.fromCharCode.apply(null, chunk));\n",
              "      yield {\n",
              "        response: {\n",
              "          action: 'append',\n",
              "          file: file.name,\n",
              "          data: base64,\n",
              "        },\n",
              "      };\n",
              "\n",
              "      let percentDone = fileData.byteLength === 0 ?\n",
              "          100 :\n",
              "          Math.round((position / fileData.byteLength) * 100);\n",
              "      percent.textContent = `${percentDone}% done`;\n",
              "\n",
              "    } while (position < fileData.byteLength);\n",
              "  }\n",
              "\n",
              "  // All done.\n",
              "  yield {\n",
              "    response: {\n",
              "      action: 'complete',\n",
              "    }\n",
              "  };\n",
              "}\n",
              "\n",
              "scope.google = scope.google || {};\n",
              "scope.google.colab = scope.google.colab || {};\n",
              "scope.google.colab._files = {\n",
              "  _uploadFiles,\n",
              "  _uploadFilesContinue,\n",
              "};\n",
              "})(self);\n",
              "</script> "
            ]
          },
          "metadata": {}
        },
        {
          "output_type": "stream",
          "name": "stdout",
          "text": [
            "Saving DBHermes.csv to DBHermes.csv\n"
          ]
        },
        {
          "output_type": "execute_result",
          "data": {
            "text/plain": [
              "{'DBHermes.csv': b'Date;Adj Close;Return;Price variation;Inflation;LVMH close stocks;Leather;CAC40;Sales (millions \\xe2\\x82\\xac)\\r\\n01/01/2014;214.845978;;;0.6;110.735573;114.5;4408.080078;4119000\\r\\n01/02/2014;212.345139;-1.164%;DOWN;0.9;112.998077;116.6;4391.5;4119000\\r\\n01/03/2014;221.093094;4.120%;UP;0.6;110.568008;119.1;4487.390137;4119000\\r\\n01/04/2014;231.662735;4.781%;UP;0.7;118.779968;120.6;4519.569824;4119000\\r\\n01/05/2014;237.931366;2.706%;DOWN;0.7;123.967499;117.8;4422.839844;4119000\\r\\n01/06/2014;246.624985;3.654%;UP;0.5;119.593147;118.4;4246.140137;4119000\\r\\n01/07/2014;237.241806;-3.805%;DOWN;0.5;109.230682;119.4;4381.040039;4119000\\r\\n01/08/2014;240.735428;1.473%;UP;0.4;112.161072;125.2;4416.240234;4119000\\r\\n01/09/2014;217.659348;-9.586%;DOWN;0.3;109.31562;132.1;4233.089844;4119000\\r\\n01/10/2014;227.174805;4.372%;UP;0.5;114.964005;134.3;4390.180176;4119000\\r\\n01/11/2014;247.538651;8.964%;UP;0.3;122.735893;136.3;4272.75;4119000\\r\\n01/12/2014;271.028381;9.489%;UP;0.1;112.33094;129.2;4604.25;4119000\\r\\n01/01/2015;276.222809;1.917%;DOWN;-0.4;122.955673;133.4;4951.47998;4841000\\r\\n01/02/2015;265.098541;-4.027%;DOWN;-0.3;140.435074;135.4;5033.640137;4841000\\r\\n01/03/2015;301.919128;13.889%;UP;-0.1;140.649261;142.4;5046.490234;4841000\\r\\n01/04/2015;311.49704;3.172%;DOWN;0.1;134.180191;136;5007.890137;4841000\\r\\n01/05/2015;328.686859;5.518%;UP;0.3;140.597229;127.8;4790.200195;4841000\\r\\n01/06/2015;309.232788;-5.919%;DOWN;0.3;136.26181;124.7;5082.609863;4841000\\r\\n01/07/2015;332.161957;7.415%;UP;0.2;148.010757;100;4652.950195;4841000\\r\\n01/08/2015;296.73877;-10.664%;DOWN;0;128.891632;95.9;4455.290039;4841000\\r\\n01/09/2015;304.563751;2.637%;UP;0;131.969757;100.6;4897.660156;4841000\\r\\n01/10/2015;328.319794;7.800%;UP;0.1;147.056976;97.5;4957.600098;4841000\\r\\n01/11/2015;312.295044;-4.881%;DOWN;0;137.649139;95.5;4637.060059;4841000\\r\\n01/12/2015;292.146973;-6.452%;DOWN;0.2;125.640068;98;4417.02002;4841000\\r\\n01/01/2016;293.833801;0.577%;UP;0.2;129.603577;101.7;4353.549805;5202000\\r\\n01/02/2016;294.72403;0.303%;DOWN;-0.2;134.500885;95.1;4385.060059;5202000\\r\\n01/03/2016;291.356293;-1.143%;DOWN;-0.1;131.61496;98;4428.959961;5202000\\r\\n01/04/2016;292.815704;0.501%;UP;-0.2;126.892586;95.7;4505.620117;5202000\\r\\n01/05/2016;305.949982;4.486%;UP;0;127.821342;94.5;4237.47998;5202000\\r\\n01/06/2016;317.248413;3.693%;DOWN;0.2;120.678253;96.4;4439.810059;5202000\\r\\n01/07/2016;364.380402;14.856%;UP;0.2;136.117966;99.2;4438.220215;5202000\\r\\n01/08/2016;358.509399;-1.611%;DOWN;0.2;134.609467;97.8;4448.259766;5202000\\r\\n01/09/2016;343.027039;-4.319%;DOWN;0.4;134.698227;97.9;4509.259766;5202000\\r\\n01/10/2016;349.51358;1.891%;UP;0.4;146.899139;101.8;4578.339844;5202000\\r\\n01/11/2016;368.736328;5.500%;UP;0.5;152.356277;106.5;4862.310059;5202000\\r\\n01/12/2016;369.304504;0.154%;DOWN;0.6;162.32016;106.5;4748.899902;5202000\\r\\n01/01/2017;381.093811;3.192%;UP;1.3;166.973267;105.3;4858.580078;5549000\\r\\n01/02/2017;390.042358;2.348%;DOWN;1.2;169.523468;105.7;5122.509766;5549000\\r\\n01/03/2017;422.084991;8.215%;UP;1.1;184.198517;107.3;5267.330078;5549000\\r\\n01/04/2017;417.42804;-1.103%;DOWN;1.2;202.676544;103.6;5283.629883;5549000\\r\\n01/05/2017;418.140808;0.171%;UP;0.8;205.848679;92.1;5120.680176;5549000\\r\\n01/06/2017;411.202667;-1.659%;DOWN;0.7;197.828629;89.6;5093.77002;5549000\\r\\n01/07/2017;408.84201;-0.574%;UP;0.7;192.753769;82.6;5085.589844;5549000\\r\\n01/08/2017;424.412323;3.808%;UP;0.9;199.595764;77.8;5329.810059;5549000\\r\\n01/09/2017;407.456909;-3.995%;DOWN;1;211.557907;76.4;5503.290039;5549000\\r\\n01/10/2017;425.606445;4.454%;UP;1.1;232.083878;76.9;5372.790039;5549000\\r\\n01/11/2017;423.027313;-0.606%;DOWN;1.2;221.571671;77.6;5312.560059;5549000\\r\\n01/12/2017;426.275116;0.768%;UP;1.2;222.387299;80.6;5481.930176;5549000\\r\\n01/01/2018;425.272156;-0.235%;DOWN;1.3;230.404907;80.7;5320.490234;5966000\\r\\n01/02/2018;422.310913;-0.696%;DOWN;1.2;224.840866;79.8;5167.299805;5966000\\r\\n01/03/2018;461.514954;9.283%;UP;1.6;228.215775;79.5;5520.5;5966000\\r\\n01/04/2018;513.561157;11.277%;UP;1.6;263.880188;77.3;5398.399902;5966000\\r\\n01/05/2018;583.531128;13.624%;UP;2;274.247559;77.2;5323.529785;5966000\\r\\n01/06/2018;502.059235;-13.962%;DOWN;2;263.30719;76.4;5511.299805;5966000\\r\\n01/07/2018;523.510681;4.273%;UP;2.3;275.909393;73.2;5406.850098;5966000\\r\\n01/08/2018;541.489685;3.434%;DOWN;2.3;278.956055;71.7;5493.490234;5966000\\r\\n01/09/2018;551.542175;1.856%;DOWN;2.2;281.218048;70.1;5093.439941;5966000\\r\\n01/10/2018;488.13324;-11.497%;DOWN;2.2;248.166107;70.2;5003.919922;5966000\\r\\n01/11/2018;461.745056;-5.406%;UP;1.9;233.163513;68.2;4730.689941;5966000\\r\\n01/12/2018;468.60788;1.486%;UP;1.6;238.379807;68;4992.720215;5966000\\r\\n01/01/2019;506.885406;8.168%;UP;1.2;260.237793;62.2;5240.529785;6883000\\r\\n01/02/2019;538.203247;6.178%;DOWN;1.3;280.935822;56.9;5350.529785;6883000\\r\\n01/03/2019;570.122314;5.931%;DOWN;1.1;305.029419;59.2;5586.410156;6883000\\r\\n01/04/2019;607.923767;6.630%;UP;1.3;324.704163;59.6;5207.629883;6883000\\r\\n01/05/2019;576.519592;-5.166%;DOWN;0.9;318.614502;51.5;5538.970215;6883000\\r\\n01/06/2019;614.708679;6.624%;UP;1.2;352.207306;44.8;5518.899902;6883000\\r\\n01/07/2019;620.149902;0.885%;DOWN;1.1;353.148315;43.8;5480.47998;6883000\\r\\n01/08/2019;604.953125;-2.451%;DOWN;1;341.009766;49.3;5677.790039;6883000\\r\\n01/09/2019;617.617065;2.093%;UP;0.9;343.126892;51.4;5729.859863;6883000\\r\\n01/10/2019;628.332764;1.735%;DOWN;0.8;359.92334;52.1;5905.169922;6883000\\r\\n01/11/2019;662.428345;5.426%;UP;1;383.259583;52.4;5978.060059;6883000\\r\\n01/12/2019;648.985046;-2.029%;DOWN;1.5;389.752319;50.8;5806.339844;6883000\\r\\n01/01/2020;659.116333;1.561%;UP;1.5;374.044861;53.6;5309.899902;6389000\\r\\n01/02/2020;613.720398;-6.887%;DOWN;1.4;350.909515;54.6;4396.120117;6389000\\r\\n01/03/2020;612.551453;-0.190%;UP;0.7;320.251678;49.4;4572.180176;6389000\\r\\n01/04/2020;652.084534;6.454%;UP;0.3;333.498901;40.1;4695.439941;6389000\\r\\n01/05/2020;733.464783;12.480%;UP;0.4;354.836334;33.7;4935.990234;6389000\\r\\n01/06/2020;729.541565;-0.535%;DOWN;0.2;369.50293;32.4;4783.689941;6389000\\r\\n01/07/2020;673.045715;-7.744%;DOWN;0.8;347.029999;32.5;4947.220215;6389000\\r\\n01/08/2020;705.609314;4.838%;UP;0.2;374.086761;34.1;4803.439941;6389000\\r\\n01/09/2020;722.087158;2.335%;DOWN;0;380.372345;38;4594.240234;6389000\\r\\n01/10/2020;783.683289;8.530%;UP;0;383.134155;43.8;5518.549805;6389000\\r\\n01/11/2020;801.730713;2.303%;DOWN;0.2;459.894379;45.4;5551.410156;6389000\\r\\n01/12/2020;862.73822;7.609%;UP;0;486.560364;48;5399.209961;6389000\\r\\n01/01/2021;826.447571;-4.206%;DOWN;0.6;476.534271;48.3;5703.220215;8982000\\r\\n01/02/2021;905.50238;9.566%;UP;0.6;502.068054;48.6;6067.22998;8982000\\r\\n01/03/2021;925.903748;2.253%;DOWN;1.1;543.285461;49.4;6269.47998;8982000\\r\\n01/04/2021;1025.643066;10.772%;UP;1.2;598.847656;49.1;6447.169922;8982000\\r\\n01/05/2021;1132.235352;10.393%;DOWN;1.4;627.537598;50.2;6507.830078;8982000\\r\\n01/06/2021;1210.344238;6.899%;DOWN;1.5;636.488647;67.2;6612.759766;8982000\\r\\n01/07/2021;1269.950195;4.925%;DOWN;1.2;648.615845;69.2;6680.180176;8982000\\r\\n01/08/2021;1226.107788;-3.452%;DOWN;1.9;603.28302;69.5;6520.009766;8982000\\r\\n01/09/2021;1178.817261;-3.857%;DOWN;2.2;596.834412;69.6;6830.339844;8982000\\r\\n01/10/2021;1350.245728;14.542%;UP;2.6;651.792114;70.5;6721.160156;8982000\\r\\n01/11/2021;1628.570557;20.613%;UP;2.8;660.839355;71.6;7153.029785;8982000\\r\\n01/12/2021;1513.299805;-7.078%;DOWN;2.8;702.747559;72.4;6999.200195;8982000\\r\\n01/01/2022;1299.014282;-14.160%;DOWN;2.9;698.494263;60;6658.830078;11602000\\r\\n01/02/2022;1223.644653;-5.802%;UP;3.6;637.885925;51.7;6659.870117;11602000\\r\\n01/03/2022;1275.062866;4.202%;UP;4.5;627.736267;55.4;6533.77002;11602000\\r\\n01/04/2022;1171.399414;-8.130%;DOWN;4.8;598.833679;56.4;6468.799805;11602000\\r\\n01/05/2022;1100.785034;-6.028%;UP;5.2;583.917297;57.3;5922.859863;11602000\\r\\n01/06/2022;1058.14209;-3.874%;UP;5.8;568.762085;54.9;6448.5;11602000\\r\\n01/07/2022;1322.925659;25.023%;UP;6.1;659.986938;58.6;6125.100098;11602000\\r\\n01/08/2022;1271.853149;-3.861%;DOWN;5.9;633.098572;61.7;5762.339844;11602000\\r\\n01/09/2022;1206.896851;-5.107%;DOWN;5.6;596.82373;63.1;6266.77002;11602000\\r\\n01/10/2022;1299.620605;7.683%;UP;6.2;624.787659;63.6;6738.549805;11602000\\r\\n01/11/2022;1529.694702;17.703%;UP;6.2;720.901306;61.3;6473.759766;11602000\\r\\n01/12/2022;1433.004028;-6.321%;DOWN;5.9;664.777893;59;7082.419922;11602000\\r\\n01/01/2023;1700.266724;18.651%;UP;6;787.547485;46.3;7267.930176;6614778\\r\\n01/02/2023;1701.258423;0.058%;DOWN;6.3;776.71875;44.4;7322.390137;6614777.77777778\\r\\n01/03/2023;1852.23645;8.874%;UP;5.7;831.256409;44.5;7491.5;6614777.77777778\\r\\n01/04/2023;1954.387817;5.515%;DOWN;5.9;857.442322;43.4;7098.700195;6614777.77777778\\r\\n01/05/2023;1898.754395;-2.847%;DOWN;5.1;807.497742;43.8;7400.060059;6614777.77777778\\r\\n01/06/2023;1986.81311;4.638%;UP;4.5;856.211548;43.9;7497.779785;6614777.77777778\\r\\n01/07/2023;2013.27063;1.332%;DOWN;4.3;841.428711;43;7316.700195;6614777.77777778\\r\\n01/08/2023;1897.755981;-5.738%;DOWN;4.9;776.047119;43.6;7135.060059;6614777.77777778\\r\\n01/09/2023;1727.029907;-8.996%;DOWN;4.9;710.764709;44.6;6885.649902;6614777.77777778\\r\\n01/10/2023;1756.782104;1.723%;UP;4;669.194275;45.1;7310.77002;6614777.77777778\\r\\n01/11/2023;1901.150513;8.218%;UP;3.5;697.172485;44.1;7543.180176;6614777.77777778\\r\\n01/12/2023;1915.727173;0.767%;DOWN;1.2;727.829346;43.7;7656.75;6614777.77777778\\r\\n01/01/2024;1954.664673;2.033%;UP;1.2;773.599976;43.7;7656.75;6614777.77777778'}"
            ]
          },
          "metadata": {},
          "execution_count": 3
        }
      ]
    },
    {
      "cell_type": "markdown",
      "source": [
        "## Data preparation"
      ],
      "metadata": {
        "id": "RCmR2vKzRvOc"
      }
    },
    {
      "cell_type": "code",
      "source": [
        "df = pd.read_csv(\"DBHermes.csv\", delimiter=';')\n",
        "df.head()"
      ],
      "metadata": {
        "colab": {
          "base_uri": "https://localhost:8080/",
          "height": 206
        },
        "id": "AOKkTgs7EMyV",
        "outputId": "690a75ca-26a3-4a90-a009-9c081f38a8ee"
      },
      "execution_count": null,
      "outputs": [
        {
          "output_type": "execute_result",
          "data": {
            "text/plain": [
              "         Date   Adj Close   Return Price variation  Inflation  \\\n",
              "0  01/01/2014  214.845978      NaN             NaN        0.6   \n",
              "1  01/02/2014  212.345139  -1.164%            DOWN        0.9   \n",
              "2  01/03/2014  221.093094   4.120%              UP        0.6   \n",
              "3  01/04/2014  231.662735   4.781%              UP        0.7   \n",
              "4  01/05/2014  237.931366   2.706%            DOWN        0.7   \n",
              "\n",
              "   LVMH close stocks  Leather        CAC40  Sales (millions €)  \n",
              "0         110.735573    114.5  4408.080078           4119000.0  \n",
              "1         112.998077    116.6  4391.500000           4119000.0  \n",
              "2         110.568008    119.1  4487.390137           4119000.0  \n",
              "3         118.779968    120.6  4519.569824           4119000.0  \n",
              "4         123.967499    117.8  4422.839844           4119000.0  "
            ],
            "text/html": [
              "\n",
              "  <div id=\"df-9caf6126-f85f-491a-b186-d6d64b53e6a8\" class=\"colab-df-container\">\n",
              "    <div>\n",
              "<style scoped>\n",
              "    .dataframe tbody tr th:only-of-type {\n",
              "        vertical-align: middle;\n",
              "    }\n",
              "\n",
              "    .dataframe tbody tr th {\n",
              "        vertical-align: top;\n",
              "    }\n",
              "\n",
              "    .dataframe thead th {\n",
              "        text-align: right;\n",
              "    }\n",
              "</style>\n",
              "<table border=\"1\" class=\"dataframe\">\n",
              "  <thead>\n",
              "    <tr style=\"text-align: right;\">\n",
              "      <th></th>\n",
              "      <th>Date</th>\n",
              "      <th>Adj Close</th>\n",
              "      <th>Return</th>\n",
              "      <th>Price variation</th>\n",
              "      <th>Inflation</th>\n",
              "      <th>LVMH close stocks</th>\n",
              "      <th>Leather</th>\n",
              "      <th>CAC40</th>\n",
              "      <th>Sales (millions €)</th>\n",
              "    </tr>\n",
              "  </thead>\n",
              "  <tbody>\n",
              "    <tr>\n",
              "      <th>0</th>\n",
              "      <td>01/01/2014</td>\n",
              "      <td>214.845978</td>\n",
              "      <td>NaN</td>\n",
              "      <td>NaN</td>\n",
              "      <td>0.6</td>\n",
              "      <td>110.735573</td>\n",
              "      <td>114.5</td>\n",
              "      <td>4408.080078</td>\n",
              "      <td>4119000.0</td>\n",
              "    </tr>\n",
              "    <tr>\n",
              "      <th>1</th>\n",
              "      <td>01/02/2014</td>\n",
              "      <td>212.345139</td>\n",
              "      <td>-1.164%</td>\n",
              "      <td>DOWN</td>\n",
              "      <td>0.9</td>\n",
              "      <td>112.998077</td>\n",
              "      <td>116.6</td>\n",
              "      <td>4391.500000</td>\n",
              "      <td>4119000.0</td>\n",
              "    </tr>\n",
              "    <tr>\n",
              "      <th>2</th>\n",
              "      <td>01/03/2014</td>\n",
              "      <td>221.093094</td>\n",
              "      <td>4.120%</td>\n",
              "      <td>UP</td>\n",
              "      <td>0.6</td>\n",
              "      <td>110.568008</td>\n",
              "      <td>119.1</td>\n",
              "      <td>4487.390137</td>\n",
              "      <td>4119000.0</td>\n",
              "    </tr>\n",
              "    <tr>\n",
              "      <th>3</th>\n",
              "      <td>01/04/2014</td>\n",
              "      <td>231.662735</td>\n",
              "      <td>4.781%</td>\n",
              "      <td>UP</td>\n",
              "      <td>0.7</td>\n",
              "      <td>118.779968</td>\n",
              "      <td>120.6</td>\n",
              "      <td>4519.569824</td>\n",
              "      <td>4119000.0</td>\n",
              "    </tr>\n",
              "    <tr>\n",
              "      <th>4</th>\n",
              "      <td>01/05/2014</td>\n",
              "      <td>237.931366</td>\n",
              "      <td>2.706%</td>\n",
              "      <td>DOWN</td>\n",
              "      <td>0.7</td>\n",
              "      <td>123.967499</td>\n",
              "      <td>117.8</td>\n",
              "      <td>4422.839844</td>\n",
              "      <td>4119000.0</td>\n",
              "    </tr>\n",
              "  </tbody>\n",
              "</table>\n",
              "</div>\n",
              "    <div class=\"colab-df-buttons\">\n",
              "\n",
              "  <div class=\"colab-df-container\">\n",
              "    <button class=\"colab-df-convert\" onclick=\"convertToInteractive('df-9caf6126-f85f-491a-b186-d6d64b53e6a8')\"\n",
              "            title=\"Convert this dataframe to an interactive table.\"\n",
              "            style=\"display:none;\">\n",
              "\n",
              "  <svg xmlns=\"http://www.w3.org/2000/svg\" height=\"24px\" viewBox=\"0 -960 960 960\">\n",
              "    <path d=\"M120-120v-720h720v720H120Zm60-500h600v-160H180v160Zm220 220h160v-160H400v160Zm0 220h160v-160H400v160ZM180-400h160v-160H180v160Zm440 0h160v-160H620v160ZM180-180h160v-160H180v160Zm440 0h160v-160H620v160Z\"/>\n",
              "  </svg>\n",
              "    </button>\n",
              "\n",
              "  <style>\n",
              "    .colab-df-container {\n",
              "      display:flex;\n",
              "      gap: 12px;\n",
              "    }\n",
              "\n",
              "    .colab-df-convert {\n",
              "      background-color: #E8F0FE;\n",
              "      border: none;\n",
              "      border-radius: 50%;\n",
              "      cursor: pointer;\n",
              "      display: none;\n",
              "      fill: #1967D2;\n",
              "      height: 32px;\n",
              "      padding: 0 0 0 0;\n",
              "      width: 32px;\n",
              "    }\n",
              "\n",
              "    .colab-df-convert:hover {\n",
              "      background-color: #E2EBFA;\n",
              "      box-shadow: 0px 1px 2px rgba(60, 64, 67, 0.3), 0px 1px 3px 1px rgba(60, 64, 67, 0.15);\n",
              "      fill: #174EA6;\n",
              "    }\n",
              "\n",
              "    .colab-df-buttons div {\n",
              "      margin-bottom: 4px;\n",
              "    }\n",
              "\n",
              "    [theme=dark] .colab-df-convert {\n",
              "      background-color: #3B4455;\n",
              "      fill: #D2E3FC;\n",
              "    }\n",
              "\n",
              "    [theme=dark] .colab-df-convert:hover {\n",
              "      background-color: #434B5C;\n",
              "      box-shadow: 0px 1px 3px 1px rgba(0, 0, 0, 0.15);\n",
              "      filter: drop-shadow(0px 1px 2px rgba(0, 0, 0, 0.3));\n",
              "      fill: #FFFFFF;\n",
              "    }\n",
              "  </style>\n",
              "\n",
              "    <script>\n",
              "      const buttonEl =\n",
              "        document.querySelector('#df-9caf6126-f85f-491a-b186-d6d64b53e6a8 button.colab-df-convert');\n",
              "      buttonEl.style.display =\n",
              "        google.colab.kernel.accessAllowed ? 'block' : 'none';\n",
              "\n",
              "      async function convertToInteractive(key) {\n",
              "        const element = document.querySelector('#df-9caf6126-f85f-491a-b186-d6d64b53e6a8');\n",
              "        const dataTable =\n",
              "          await google.colab.kernel.invokeFunction('convertToInteractive',\n",
              "                                                    [key], {});\n",
              "        if (!dataTable) return;\n",
              "\n",
              "        const docLinkHtml = 'Like what you see? Visit the ' +\n",
              "          '<a target=\"_blank\" href=https://colab.research.google.com/notebooks/data_table.ipynb>data table notebook</a>'\n",
              "          + ' to learn more about interactive tables.';\n",
              "        element.innerHTML = '';\n",
              "        dataTable['output_type'] = 'display_data';\n",
              "        await google.colab.output.renderOutput(dataTable, element);\n",
              "        const docLink = document.createElement('div');\n",
              "        docLink.innerHTML = docLinkHtml;\n",
              "        element.appendChild(docLink);\n",
              "      }\n",
              "    </script>\n",
              "  </div>\n",
              "\n",
              "\n",
              "<div id=\"df-be18220f-39e7-4919-b96f-319a55d2eb25\">\n",
              "  <button class=\"colab-df-quickchart\" onclick=\"quickchart('df-be18220f-39e7-4919-b96f-319a55d2eb25')\"\n",
              "            title=\"Suggest charts\"\n",
              "            style=\"display:none;\">\n",
              "\n",
              "<svg xmlns=\"http://www.w3.org/2000/svg\" height=\"24px\"viewBox=\"0 0 24 24\"\n",
              "     width=\"24px\">\n",
              "    <g>\n",
              "        <path d=\"M19 3H5c-1.1 0-2 .9-2 2v14c0 1.1.9 2 2 2h14c1.1 0 2-.9 2-2V5c0-1.1-.9-2-2-2zM9 17H7v-7h2v7zm4 0h-2V7h2v10zm4 0h-2v-4h2v4z\"/>\n",
              "    </g>\n",
              "</svg>\n",
              "  </button>\n",
              "\n",
              "<style>\n",
              "  .colab-df-quickchart {\n",
              "      --bg-color: #E8F0FE;\n",
              "      --fill-color: #1967D2;\n",
              "      --hover-bg-color: #E2EBFA;\n",
              "      --hover-fill-color: #174EA6;\n",
              "      --disabled-fill-color: #AAA;\n",
              "      --disabled-bg-color: #DDD;\n",
              "  }\n",
              "\n",
              "  [theme=dark] .colab-df-quickchart {\n",
              "      --bg-color: #3B4455;\n",
              "      --fill-color: #D2E3FC;\n",
              "      --hover-bg-color: #434B5C;\n",
              "      --hover-fill-color: #FFFFFF;\n",
              "      --disabled-bg-color: #3B4455;\n",
              "      --disabled-fill-color: #666;\n",
              "  }\n",
              "\n",
              "  .colab-df-quickchart {\n",
              "    background-color: var(--bg-color);\n",
              "    border: none;\n",
              "    border-radius: 50%;\n",
              "    cursor: pointer;\n",
              "    display: none;\n",
              "    fill: var(--fill-color);\n",
              "    height: 32px;\n",
              "    padding: 0;\n",
              "    width: 32px;\n",
              "  }\n",
              "\n",
              "  .colab-df-quickchart:hover {\n",
              "    background-color: var(--hover-bg-color);\n",
              "    box-shadow: 0 1px 2px rgba(60, 64, 67, 0.3), 0 1px 3px 1px rgba(60, 64, 67, 0.15);\n",
              "    fill: var(--button-hover-fill-color);\n",
              "  }\n",
              "\n",
              "  .colab-df-quickchart-complete:disabled,\n",
              "  .colab-df-quickchart-complete:disabled:hover {\n",
              "    background-color: var(--disabled-bg-color);\n",
              "    fill: var(--disabled-fill-color);\n",
              "    box-shadow: none;\n",
              "  }\n",
              "\n",
              "  .colab-df-spinner {\n",
              "    border: 2px solid var(--fill-color);\n",
              "    border-color: transparent;\n",
              "    border-bottom-color: var(--fill-color);\n",
              "    animation:\n",
              "      spin 1s steps(1) infinite;\n",
              "  }\n",
              "\n",
              "  @keyframes spin {\n",
              "    0% {\n",
              "      border-color: transparent;\n",
              "      border-bottom-color: var(--fill-color);\n",
              "      border-left-color: var(--fill-color);\n",
              "    }\n",
              "    20% {\n",
              "      border-color: transparent;\n",
              "      border-left-color: var(--fill-color);\n",
              "      border-top-color: var(--fill-color);\n",
              "    }\n",
              "    30% {\n",
              "      border-color: transparent;\n",
              "      border-left-color: var(--fill-color);\n",
              "      border-top-color: var(--fill-color);\n",
              "      border-right-color: var(--fill-color);\n",
              "    }\n",
              "    40% {\n",
              "      border-color: transparent;\n",
              "      border-right-color: var(--fill-color);\n",
              "      border-top-color: var(--fill-color);\n",
              "    }\n",
              "    60% {\n",
              "      border-color: transparent;\n",
              "      border-right-color: var(--fill-color);\n",
              "    }\n",
              "    80% {\n",
              "      border-color: transparent;\n",
              "      border-right-color: var(--fill-color);\n",
              "      border-bottom-color: var(--fill-color);\n",
              "    }\n",
              "    90% {\n",
              "      border-color: transparent;\n",
              "      border-bottom-color: var(--fill-color);\n",
              "    }\n",
              "  }\n",
              "</style>\n",
              "\n",
              "  <script>\n",
              "    async function quickchart(key) {\n",
              "      const quickchartButtonEl =\n",
              "        document.querySelector('#' + key + ' button');\n",
              "      quickchartButtonEl.disabled = true;  // To prevent multiple clicks.\n",
              "      quickchartButtonEl.classList.add('colab-df-spinner');\n",
              "      try {\n",
              "        const charts = await google.colab.kernel.invokeFunction(\n",
              "            'suggestCharts', [key], {});\n",
              "      } catch (error) {\n",
              "        console.error('Error during call to suggestCharts:', error);\n",
              "      }\n",
              "      quickchartButtonEl.classList.remove('colab-df-spinner');\n",
              "      quickchartButtonEl.classList.add('colab-df-quickchart-complete');\n",
              "    }\n",
              "    (() => {\n",
              "      let quickchartButtonEl =\n",
              "        document.querySelector('#df-be18220f-39e7-4919-b96f-319a55d2eb25 button');\n",
              "      quickchartButtonEl.style.display =\n",
              "        google.colab.kernel.accessAllowed ? 'block' : 'none';\n",
              "    })();\n",
              "  </script>\n",
              "</div>\n",
              "    </div>\n",
              "  </div>\n"
            ],
            "application/vnd.google.colaboratory.intrinsic+json": {
              "type": "dataframe",
              "variable_name": "df",
              "summary": "{\n  \"name\": \"df\",\n  \"rows\": 121,\n  \"fields\": [\n    {\n      \"column\": \"Date\",\n      \"properties\": {\n        \"dtype\": \"object\",\n        \"num_unique_values\": 121,\n        \"samples\": [\n          \"01/09/2017\",\n          \"01/12/2017\",\n          \"01/05/2014\"\n        ],\n        \"semantic_type\": \"\",\n        \"description\": \"\"\n      }\n    },\n    {\n      \"column\": \"Adj Close\",\n      \"properties\": {\n        \"dtype\": \"number\",\n        \"std\": 523.4372875276973,\n        \"min\": 212.345139,\n        \"max\": 2013.27063,\n        \"num_unique_values\": 121,\n        \"samples\": [\n          407.456909,\n          426.275116,\n          237.931366\n        ],\n        \"semantic_type\": \"\",\n        \"description\": \"\"\n      }\n    },\n    {\n      \"column\": \"Return\",\n      \"properties\": {\n        \"dtype\": \"string\",\n        \"num_unique_values\": 120,\n        \"samples\": [\n          \"4.454%\",\n          \"-0.235%\",\n          \"3.654%\"\n        ],\n        \"semantic_type\": \"\",\n        \"description\": \"\"\n      }\n    },\n    {\n      \"column\": \"Price variation\",\n      \"properties\": {\n        \"dtype\": \"category\",\n        \"num_unique_values\": 2,\n        \"samples\": [\n          \"UP\",\n          \"DOWN\"\n        ],\n        \"semantic_type\": \"\",\n        \"description\": \"\"\n      }\n    },\n    {\n      \"column\": \"Inflation\",\n      \"properties\": {\n        \"dtype\": \"number\",\n        \"std\": 1.850360325270009,\n        \"min\": -0.4,\n        \"max\": 6.3,\n        \"num_unique_values\": 45,\n        \"samples\": [\n          5.7,\n          2.6\n        ],\n        \"semantic_type\": \"\",\n        \"description\": \"\"\n      }\n    },\n    {\n      \"column\": \"LVMH close stocks\",\n      \"properties\": {\n        \"dtype\": \"number\",\n        \"std\": 231.62889262591776,\n        \"min\": 109.230682,\n        \"max\": 857.442322,\n        \"num_unique_values\": 121,\n        \"samples\": [\n          211.557907,\n          222.387299\n        ],\n        \"semantic_type\": \"\",\n        \"description\": \"\"\n      }\n    },\n    {\n      \"column\": \"Leather\",\n      \"properties\": {\n        \"dtype\": \"number\",\n        \"std\": 29.399470933752756,\n        \"min\": 32.4,\n        \"max\": 142.4,\n        \"num_unique_values\": 114,\n        \"samples\": [\n          48.3,\n          117.8\n        ],\n        \"semantic_type\": \"\",\n        \"description\": \"\"\n      }\n    },\n    {\n      \"column\": \"CAC40\",\n      \"properties\": {\n        \"dtype\": \"number\",\n        \"std\": 972.8799781777624,\n        \"min\": 4233.089844,\n        \"max\": 7656.75,\n        \"num_unique_values\": 120,\n        \"samples\": [\n          5503.290039,\n          5481.930176\n        ],\n        \"semantic_type\": \"\",\n        \"description\": \"\"\n      }\n    },\n    {\n      \"column\": \"Sales (millions \\u20ac)\",\n      \"properties\": {\n        \"dtype\": \"number\",\n        \"std\": 2086311.9506812866,\n        \"min\": 4119000.0,\n        \"max\": 11602000.0,\n        \"num_unique_values\": 11,\n        \"samples\": [\n          6883000.0,\n          4119000.0\n        ],\n        \"semantic_type\": \"\",\n        \"description\": \"\"\n      }\n    }\n  ]\n}"
            }
          },
          "metadata": {},
          "execution_count": 4
        }
      ]
    },
    {
      "cell_type": "code",
      "source": [
        "df.isnull().sum().sum()"
      ],
      "metadata": {
        "colab": {
          "base_uri": "https://localhost:8080/"
        },
        "id": "ua-3qn_8EPPZ",
        "outputId": "7411fed5-af01-46f7-bc25-1df7889da397"
      },
      "execution_count": null,
      "outputs": [
        {
          "output_type": "execute_result",
          "data": {
            "text/plain": [
              "2"
            ]
          },
          "metadata": {},
          "execution_count": 5
        }
      ]
    },
    {
      "cell_type": "code",
      "source": [
        "df['Price variation'].fillna(value=df['Price variation'].mode())"
      ],
      "metadata": {
        "colab": {
          "base_uri": "https://localhost:8080/"
        },
        "id": "Nt_MT5l4ERRM",
        "outputId": "e7fba9c5-4257-4908-f136-0d53eb07ffad"
      },
      "execution_count": null,
      "outputs": [
        {
          "output_type": "execute_result",
          "data": {
            "text/plain": [
              "0      DOWN\n",
              "1      DOWN\n",
              "2        UP\n",
              "3        UP\n",
              "4      DOWN\n",
              "       ... \n",
              "116    DOWN\n",
              "117      UP\n",
              "118      UP\n",
              "119    DOWN\n",
              "120      UP\n",
              "Name: Price variation, Length: 121, dtype: object"
            ]
          },
          "metadata": {},
          "execution_count": 6
        }
      ]
    },
    {
      "cell_type": "code",
      "source": [
        "df.info()"
      ],
      "metadata": {
        "colab": {
          "base_uri": "https://localhost:8080/"
        },
        "id": "sj9tZrK8ETjn",
        "outputId": "0194d8eb-2ba4-42a6-9576-aee3151aeac2"
      },
      "execution_count": null,
      "outputs": [
        {
          "output_type": "stream",
          "name": "stdout",
          "text": [
            "<class 'pandas.core.frame.DataFrame'>\n",
            "RangeIndex: 121 entries, 0 to 120\n",
            "Data columns (total 9 columns):\n",
            " #   Column              Non-Null Count  Dtype  \n",
            "---  ------              --------------  -----  \n",
            " 0   Date                121 non-null    object \n",
            " 1   Adj Close           121 non-null    float64\n",
            " 2   Return              120 non-null    object \n",
            " 3   Price variation     120 non-null    object \n",
            " 4   Inflation           121 non-null    float64\n",
            " 5   LVMH close stocks   121 non-null    float64\n",
            " 6   Leather             121 non-null    float64\n",
            " 7   CAC40               121 non-null    float64\n",
            " 8   Sales (millions €)  121 non-null    float64\n",
            "dtypes: float64(6), object(3)\n",
            "memory usage: 8.6+ KB\n"
          ]
        }
      ]
    },
    {
      "cell_type": "code",
      "source": [
        "df = df.drop('Date', axis=1)"
      ],
      "metadata": {
        "id": "lGQ3xKKhEXae"
      },
      "execution_count": null,
      "outputs": []
    },
    {
      "cell_type": "code",
      "source": [
        "df = df.drop('Return', axis=1)"
      ],
      "metadata": {
        "id": "uFEsw8eqEaJZ"
      },
      "execution_count": null,
      "outputs": []
    },
    {
      "cell_type": "code",
      "source": [
        "df = df.drop('Adj Close', axis=1)"
      ],
      "metadata": {
        "id": "VBqt319dEbVi"
      },
      "execution_count": null,
      "outputs": []
    },
    {
      "cell_type": "code",
      "source": [
        "df['Price variation'] = df['Price variation'].astype('category')\n",
        "df = pd.get_dummies(df, columns=['Price variation'], drop_first=True)"
      ],
      "metadata": {
        "id": "Q-bHFOK6EhGS"
      },
      "execution_count": null,
      "outputs": []
    },
    {
      "cell_type": "markdown",
      "source": [
        "## Data splitting"
      ],
      "metadata": {
        "id": "e9stkvzcRzCU"
      }
    },
    {
      "cell_type": "code",
      "source": [
        "from sklearn.model_selection import train_test_split"
      ],
      "metadata": {
        "id": "dhVWA_tSEkm7"
      },
      "execution_count": null,
      "outputs": []
    },
    {
      "cell_type": "code",
      "source": [
        "x = df.drop('Price variation_UP' ,axis=1)\n",
        "y = df['Price variation_UP']"
      ],
      "metadata": {
        "id": "EL28DYtvEnDN"
      },
      "execution_count": null,
      "outputs": []
    },
    {
      "cell_type": "code",
      "source": [
        "x_train, x_test, y_train, y_test = train_test_split(x,y,test_size=0.19, random_state=2)"
      ],
      "metadata": {
        "id": "fyUuDhrqEph3"
      },
      "execution_count": null,
      "outputs": []
    },
    {
      "cell_type": "markdown",
      "source": [
        "## Decision Tree"
      ],
      "metadata": {
        "id": "AuVFfnvBR16I"
      }
    },
    {
      "cell_type": "code",
      "source": [
        "from sklearn.tree import DecisionTreeClassifier"
      ],
      "metadata": {
        "id": "HXdNT5VbEr-E"
      },
      "execution_count": null,
      "outputs": []
    },
    {
      "cell_type": "code",
      "source": [
        "dtree = DecisionTreeClassifier(max_depth = 4)"
      ],
      "metadata": {
        "id": "AdQnh6_NEuR_"
      },
      "execution_count": null,
      "outputs": []
    },
    {
      "cell_type": "code",
      "source": [
        "dtree.fit(x_train, y_train)"
      ],
      "metadata": {
        "colab": {
          "base_uri": "https://localhost:8080/",
          "height": 75
        },
        "id": "8yd-DGhHEwVx",
        "outputId": "6bdbeacd-7b31-47d5-ff5d-3ce43f6d692f"
      },
      "execution_count": null,
      "outputs": [
        {
          "output_type": "execute_result",
          "data": {
            "text/plain": [
              "DecisionTreeClassifier(max_depth=4)"
            ],
            "text/html": [
              "<style>#sk-container-id-10 {color: black;background-color: white;}#sk-container-id-10 pre{padding: 0;}#sk-container-id-10 div.sk-toggleable {background-color: white;}#sk-container-id-10 label.sk-toggleable__label {cursor: pointer;display: block;width: 100%;margin-bottom: 0;padding: 0.3em;box-sizing: border-box;text-align: center;}#sk-container-id-10 label.sk-toggleable__label-arrow:before {content: \"▸\";float: left;margin-right: 0.25em;color: #696969;}#sk-container-id-10 label.sk-toggleable__label-arrow:hover:before {color: black;}#sk-container-id-10 div.sk-estimator:hover label.sk-toggleable__label-arrow:before {color: black;}#sk-container-id-10 div.sk-toggleable__content {max-height: 0;max-width: 0;overflow: hidden;text-align: left;background-color: #f0f8ff;}#sk-container-id-10 div.sk-toggleable__content pre {margin: 0.2em;color: black;border-radius: 0.25em;background-color: #f0f8ff;}#sk-container-id-10 input.sk-toggleable__control:checked~div.sk-toggleable__content {max-height: 200px;max-width: 100%;overflow: auto;}#sk-container-id-10 input.sk-toggleable__control:checked~label.sk-toggleable__label-arrow:before {content: \"▾\";}#sk-container-id-10 div.sk-estimator input.sk-toggleable__control:checked~label.sk-toggleable__label {background-color: #d4ebff;}#sk-container-id-10 div.sk-label input.sk-toggleable__control:checked~label.sk-toggleable__label {background-color: #d4ebff;}#sk-container-id-10 input.sk-hidden--visually {border: 0;clip: rect(1px 1px 1px 1px);clip: rect(1px, 1px, 1px, 1px);height: 1px;margin: -1px;overflow: hidden;padding: 0;position: absolute;width: 1px;}#sk-container-id-10 div.sk-estimator {font-family: monospace;background-color: #f0f8ff;border: 1px dotted black;border-radius: 0.25em;box-sizing: border-box;margin-bottom: 0.5em;}#sk-container-id-10 div.sk-estimator:hover {background-color: #d4ebff;}#sk-container-id-10 div.sk-parallel-item::after {content: \"\";width: 100%;border-bottom: 1px solid gray;flex-grow: 1;}#sk-container-id-10 div.sk-label:hover label.sk-toggleable__label {background-color: #d4ebff;}#sk-container-id-10 div.sk-serial::before {content: \"\";position: absolute;border-left: 1px solid gray;box-sizing: border-box;top: 0;bottom: 0;left: 50%;z-index: 0;}#sk-container-id-10 div.sk-serial {display: flex;flex-direction: column;align-items: center;background-color: white;padding-right: 0.2em;padding-left: 0.2em;position: relative;}#sk-container-id-10 div.sk-item {position: relative;z-index: 1;}#sk-container-id-10 div.sk-parallel {display: flex;align-items: stretch;justify-content: center;background-color: white;position: relative;}#sk-container-id-10 div.sk-item::before, #sk-container-id-10 div.sk-parallel-item::before {content: \"\";position: absolute;border-left: 1px solid gray;box-sizing: border-box;top: 0;bottom: 0;left: 50%;z-index: -1;}#sk-container-id-10 div.sk-parallel-item {display: flex;flex-direction: column;z-index: 1;position: relative;background-color: white;}#sk-container-id-10 div.sk-parallel-item:first-child::after {align-self: flex-end;width: 50%;}#sk-container-id-10 div.sk-parallel-item:last-child::after {align-self: flex-start;width: 50%;}#sk-container-id-10 div.sk-parallel-item:only-child::after {width: 0;}#sk-container-id-10 div.sk-dashed-wrapped {border: 1px dashed gray;margin: 0 0.4em 0.5em 0.4em;box-sizing: border-box;padding-bottom: 0.4em;background-color: white;}#sk-container-id-10 div.sk-label label {font-family: monospace;font-weight: bold;display: inline-block;line-height: 1.2em;}#sk-container-id-10 div.sk-label-container {text-align: center;}#sk-container-id-10 div.sk-container {/* jupyter's `normalize.less` sets `[hidden] { display: none; }` but bootstrap.min.css set `[hidden] { display: none !important; }` so we also need the `!important` here to be able to override the default hidden behavior on the sphinx rendered scikit-learn.org. See: https://github.com/scikit-learn/scikit-learn/issues/21755 */display: inline-block !important;position: relative;}#sk-container-id-10 div.sk-text-repr-fallback {display: none;}</style><div id=\"sk-container-id-10\" class=\"sk-top-container\"><div class=\"sk-text-repr-fallback\"><pre>DecisionTreeClassifier(max_depth=4)</pre><b>In a Jupyter environment, please rerun this cell to show the HTML representation or trust the notebook. <br />On GitHub, the HTML representation is unable to render, please try loading this page with nbviewer.org.</b></div><div class=\"sk-container\" hidden><div class=\"sk-item\"><div class=\"sk-estimator sk-toggleable\"><input class=\"sk-toggleable__control sk-hidden--visually\" id=\"sk-estimator-id-10\" type=\"checkbox\" checked><label for=\"sk-estimator-id-10\" class=\"sk-toggleable__label sk-toggleable__label-arrow\">DecisionTreeClassifier</label><div class=\"sk-toggleable__content\"><pre>DecisionTreeClassifier(max_depth=4)</pre></div></div></div></div></div>"
            ]
          },
          "metadata": {},
          "execution_count": 118
        }
      ]
    },
    {
      "cell_type": "code",
      "source": [
        "y_pred = dtree.predict(x_test)"
      ],
      "metadata": {
        "id": "gk52XsvWEyct"
      },
      "execution_count": null,
      "outputs": []
    },
    {
      "cell_type": "code",
      "source": [
        "from sklearn.metrics import confusion_matrix\n",
        "from sklearn.metrics import classification_report"
      ],
      "metadata": {
        "id": "Qhk4mRGSE0mZ"
      },
      "execution_count": null,
      "outputs": []
    },
    {
      "cell_type": "code",
      "source": [
        "print(confusion_matrix(y_test,y_pred))\n",
        "print('\\n')\n",
        "print(classification_report(y_test,y_pred))"
      ],
      "metadata": {
        "colab": {
          "base_uri": "https://localhost:8080/"
        },
        "id": "N7DWcsI6E2s1",
        "outputId": "87cccb7b-bf82-4b21-ad68-dcc51fda00b0"
      },
      "execution_count": null,
      "outputs": [
        {
          "output_type": "stream",
          "name": "stdout",
          "text": [
            "[[5 5]\n",
            " [7 6]]\n",
            "\n",
            "\n",
            "              precision    recall  f1-score   support\n",
            "\n",
            "       False       0.42      0.50      0.45        10\n",
            "        True       0.55      0.46      0.50        13\n",
            "\n",
            "    accuracy                           0.48        23\n",
            "   macro avg       0.48      0.48      0.48        23\n",
            "weighted avg       0.49      0.48      0.48        23\n",
            "\n"
          ]
        }
      ]
    },
    {
      "cell_type": "markdown",
      "source": [
        "## Decision tree visualization"
      ],
      "metadata": {
        "id": "RPeuW7jzR4__"
      }
    },
    {
      "cell_type": "code",
      "source": [
        "from sklearn import tree\n",
        "import matplotlib.pyplot as plt"
      ],
      "metadata": {
        "id": "8y8ampP8E5w0"
      },
      "execution_count": null,
      "outputs": []
    },
    {
      "cell_type": "code",
      "source": [
        "y.unique()"
      ],
      "metadata": {
        "colab": {
          "base_uri": "https://localhost:8080/"
        },
        "id": "xZWKAkCZE78r",
        "outputId": "b17bc3f9-1bc0-498c-9781-925ce158532f"
      },
      "execution_count": null,
      "outputs": [
        {
          "output_type": "execute_result",
          "data": {
            "text/plain": [
              "array([False,  True])"
            ]
          },
          "metadata": {},
          "execution_count": 123
        }
      ]
    },
    {
      "cell_type": "code",
      "source": [
        "plt.figure(figsize=(15,10))\n",
        "tree.plot_tree(dtree,\n",
        "               feature_names = x.columns,\n",
        "               class_names=['UP', 'DOWN'],\n",
        "               rounded=True,\n",
        "               filled=True);"
      ],
      "metadata": {
        "colab": {
          "base_uri": "https://localhost:8080/",
          "height": 807
        },
        "id": "3OQwpN42FA8_",
        "outputId": "cd3d7544-40cd-4a2a-83cf-18a282c98142"
      },
      "execution_count": null,
      "outputs": [
        {
          "output_type": "display_data",
          "data": {
            "text/plain": [
              "<Figure size 1500x1000 with 1 Axes>"
            ],
            "image/png": "[encoded data removed]"
          },
          "metadata": {}
        }
      ]
    },
    {
      "cell_type": "markdown",
      "source": [
        "## Random Forest"
      ],
      "metadata": {
        "id": "SpPRWyO3R86y"
      }
    },
    {
      "cell_type": "code",
      "source": [
        "#MODEL BUILDING\n",
        "from sklearn.ensemble import RandomForestClassifier\n",
        "rf = RandomForestClassifier(n_estimators=100)\n",
        "rf.fit(x_train, y_train)\n",
        "y_pred= rf.predict(x_test)"
      ],
      "metadata": {
        "id": "Se0iQ73EG4CE"
      },
      "execution_count": null,
      "outputs": []
    },
    {
      "cell_type": "code",
      "source": [
        "#PERFROMANCE MEASURE\n",
        "from sklearn.metrics import confusion_matrix\n",
        "from sklearn.metrics import classification_report\n",
        "\n",
        "print(confusion_matrix(y_test,y_pred))\n",
        "print('\\n')\n",
        "print(classification_report(y_test,y_pred))"
      ],
      "metadata": {
        "colab": {
          "base_uri": "https://localhost:8080/"
        },
        "id": "nlCev_yvG6mx",
        "outputId": "171f9e76-3d4e-4de2-fac3-6891ebcd6ebc"
      },
      "execution_count": null,
      "outputs": [
        {
          "output_type": "stream",
          "name": "stdout",
          "text": [
            "[[ 8  2]\n",
            " [12  1]]\n",
            "\n",
            "\n",
            "              precision    recall  f1-score   support\n",
            "\n",
            "       False       0.40      0.80      0.53        10\n",
            "        True       0.33      0.08      0.12        13\n",
            "\n",
            "    accuracy                           0.39        23\n",
            "   macro avg       0.37      0.44      0.33        23\n",
            "weighted avg       0.36      0.39      0.30        23\n",
            "\n"
          ]
        }
      ]
    }
  ]
}